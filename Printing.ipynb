{
 "cells": [
  {
   "cell_type": "markdown",
   "id": "a7d759c1-24f8-4070-aa20-12d221faba65",
   "metadata": {},
   "source": [
    "# Printing/Formatting\n",
    "\n",
    "\n",
    "## f-string\n",
    "\n",
    "[PEP 498](https://www.python.org/dev/peps/pep-0498/)"
   ]
  },
  {
   "cell_type": "code",
   "execution_count": 1,
   "id": "8075fd7e-63e0-47c4-8bba-e7c8db4f224a",
   "metadata": {},
   "outputs": [
    {
     "name": "stdout",
     "output_type": "stream",
     "text": [
      "2\n"
     ]
    }
   ],
   "source": [
    "print(f\"{1 + 1}\")"
   ]
  },
  {
   "cell_type": "code",
   "execution_count": 3,
   "id": "97c9e712-b8ea-4120-9bf4-baa3c317e54f",
   "metadata": {},
   "outputs": [
    {
     "name": "stdout",
     "output_type": "stream",
     "text": [
      "Val: 347380.338\n",
      "Val: 525811.212\n"
     ]
    }
   ],
   "source": [
    "for val in [347380.33812199, 525811.212]:\n",
    "    print(f\"Val: {val:>10.3f}\")"
   ]
  }
 ],
 "metadata": {
  "kernelspec": {
   "display_name": "Python 3",
   "language": "python",
   "name": "python3"
  },
  "language_info": {
   "codemirror_mode": {
    "name": "ipython",
    "version": 3
   },
   "file_extension": ".py",
   "mimetype": "text/x-python",
   "name": "python",
   "nbconvert_exporter": "python",
   "pygments_lexer": "ipython3",
   "version": "3.9.5"
  }
 },
 "nbformat": 4,
 "nbformat_minor": 5
}
