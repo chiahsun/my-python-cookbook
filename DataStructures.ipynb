{
 "cells": [
  {
   "cell_type": "markdown",
   "id": "bf0803a8-b14b-4742-80be-ff96d549e058",
   "metadata": {},
   "source": [
    "# Built-in Data Structures"
   ]
  },
  {
   "cell_type": "code",
   "execution_count": 1,
   "id": "d2b0076c-30dd-4a84-b94c-b47177530f85",
   "metadata": {},
   "outputs": [
    {
     "data": {
      "text/plain": [
       "'3.9.6 (default, Jun 29 2021, 05:25:02) \\n[Clang 12.0.5 (clang-1205.0.22.9)]'"
      ]
     },
     "execution_count": 1,
     "metadata": {},
     "output_type": "execute_result"
    }
   ],
   "source": [
    "import sys\n",
    "sys.version"
   ]
  },
  {
   "cell_type": "markdown",
   "id": "d48272a3-75e5-47de-a2e4-f88a8799bb53",
   "metadata": {},
   "source": [
    "# Dict"
   ]
  },
  {
   "cell_type": "code",
   "execution_count": 2,
   "id": "293e8a69-b4df-44c4-b012-18cd804955df",
   "metadata": {},
   "outputs": [
    {
     "name": "stdout",
     "output_type": "stream",
     "text": [
      "<class 'dict'>\n",
      "{'one': 1, 'two': 2, 'three': 3}\n"
     ]
    }
   ],
   "source": [
    "a = {\"one\": 1, \"two\": 2, \"three\": 3}\n",
    "print(type(a))\n",
    "print(a)"
   ]
  },
  {
   "cell_type": "code",
   "execution_count": 3,
   "id": "662e6ffb-9b68-441b-8bbb-18b30971c5d3",
   "metadata": {},
   "outputs": [
    {
     "name": "stdout",
     "output_type": "stream",
     "text": [
      "one\n",
      "two\n",
      "three\n"
     ]
    }
   ],
   "source": [
    "for x in a:\n",
    "    print(x)"
   ]
  },
  {
   "cell_type": "code",
   "execution_count": 4,
   "id": "61cbfb25-14d1-4a01-b700-8ad4e13524b1",
   "metadata": {},
   "outputs": [
    {
     "name": "stdout",
     "output_type": "stream",
     "text": [
      "('one', 1)\n",
      "('two', 2)\n",
      "('three', 3)\n",
      "one 1\n",
      "two 2\n",
      "three 3\n"
     ]
    }
   ],
   "source": [
    "for x in a.items():\n",
    "    print(x)\n",
    "for x, y in a.items():\n",
    "    print(x, y)"
   ]
  },
  {
   "cell_type": "code",
   "execution_count": 5,
   "id": "39aea594-06bb-4a3a-b3d9-cb7e19d05772",
   "metadata": {},
   "outputs": [
    {
     "name": "stdout",
     "output_type": "stream",
     "text": [
      "1\n",
      "2\n",
      "3\n"
     ]
    }
   ],
   "source": [
    "for x in a.values():\n",
    "    print(x)"
   ]
  },
  {
   "cell_type": "code",
   "execution_count": 6,
   "id": "d178774a-c0b3-47c2-9631-1e2318760398",
   "metadata": {},
   "outputs": [
    {
     "name": "stdout",
     "output_type": "stream",
     "text": [
      "<class 'dict'>\n",
      "{1: 'one', 2: 'two', 3: 'three'}\n"
     ]
    }
   ],
   "source": [
    "# https://stackoverflow.com/questions/483666/reverse-invert-a-dictionary-mapping\n",
    "inverse_mapping = {number: word for word, number in a.items()}\n",
    "print(type(inverse_mapping))\n",
    "print(inverse_mapping)"
   ]
  },
  {
   "cell_type": "code",
   "execution_count": 7,
   "id": "657e720b-5599-4037-9a91-4e64ddc0a129",
   "metadata": {},
   "outputs": [
    {
     "name": "stdout",
     "output_type": "stream",
     "text": [
      "<class 'dict'>\n",
      "{1: 'one', 2: 'two', 3: 'three'}\n"
     ]
    }
   ],
   "source": [
    "inverse_mapping2 = dict((number, word) for word, number in a.items())\n",
    "print(type(inverse_mapping2))\n",
    "print(inverse_mapping2)"
   ]
  },
  {
   "cell_type": "markdown",
   "id": "974fdd53-c54b-4235-8fbf-1dc6efdd95fd",
   "metadata": {},
   "source": [
    "# Set"
   ]
  },
  {
   "cell_type": "code",
   "execution_count": 8,
   "id": "3ec6dbea-c9d9-4769-afa0-5fcac7b53ff8",
   "metadata": {},
   "outputs": [
    {
     "name": "stdout",
     "output_type": "stream",
     "text": [
      "<class 'set'>\n",
      "{1, 2, 3, 5}\n"
     ]
    }
   ],
   "source": [
    "a = [1, 2, 3, 2, 5]\n",
    "s = set(a)\n",
    "print(type(s))\n",
    "print(s)"
   ]
  },
  {
   "cell_type": "code",
   "execution_count": 9,
   "id": "ea692874-85f2-4147-bb3c-dbcf5063fd22",
   "metadata": {},
   "outputs": [
    {
     "name": "stdout",
     "output_type": "stream",
     "text": [
      "<class 'set'>\n",
      "{1, 2, 3, 5}\n"
     ]
    }
   ],
   "source": [
    "s2 = {x for x in a}\n",
    "print(type(s2))\n",
    "print(s2)"
   ]
  },
  {
   "cell_type": "markdown",
   "id": "34b4adc8-b244-4983-9540-1e3e2f4dde28",
   "metadata": {},
   "source": [
    "# Iteration"
   ]
  },
  {
   "cell_type": "markdown",
   "id": "64d73e37-e56d-4484-ad94-31109bed254a",
   "metadata": {},
   "source": [
    "## Iterate first k items"
   ]
  },
  {
   "cell_type": "code",
   "execution_count": 10,
   "id": "5b56a56a-aecd-42ee-8c9a-c420e34b2ed8",
   "metadata": {},
   "outputs": [
    {
     "name": "stdout",
     "output_type": "stream",
     "text": [
      "one 1\n",
      "two 2\n",
      "three 3\n"
     ]
    }
   ],
   "source": [
    "a = {\"one\": 1, \"two\": 2, \"three\": 3, \"four\": 4, \"five\": 5}\n",
    "for index, (word, number) in enumerate(a.items()):\n",
    "    if index >= 3:\n",
    "        break\n",
    "    print(word, number)"
   ]
  }
 ],
 "metadata": {
  "kernelspec": {
   "display_name": "Python 3",
   "language": "python",
   "name": "python3"
  },
  "language_info": {
   "codemirror_mode": {
    "name": "ipython",
    "version": 3
   },
   "file_extension": ".py",
   "mimetype": "text/x-python",
   "name": "python",
   "nbconvert_exporter": "python",
   "pygments_lexer": "ipython3",
   "version": "3.9.6"
  }
 },
 "nbformat": 4,
 "nbformat_minor": 5
}
