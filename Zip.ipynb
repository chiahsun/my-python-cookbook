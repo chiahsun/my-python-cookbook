{
 "cells": [
  {
   "cell_type": "code",
   "execution_count": 1,
   "id": "8668e62d",
   "metadata": {},
   "outputs": [
    {
     "name": "stdout",
     "output_type": "stream",
     "text": [
      "[(1, 'One'), (2, 'Two'), (3, 'Three')]\n"
     ]
    }
   ],
   "source": [
    "a = [1, 2, 3]\n",
    "b = [\"One\", \"Two\", \"Three\"]\n",
    "print(list(zip(a, b)))"
   ]
  },
  {
   "cell_type": "code",
   "execution_count": 2,
   "id": "da57f2df",
   "metadata": {},
   "outputs": [
    {
     "name": "stdout",
     "output_type": "stream",
     "text": [
      "(1, 'One') (2, 'Two') (3, 'Three')\n"
     ]
    }
   ],
   "source": [
    "print(*zip(a, b))"
   ]
  },
  {
   "cell_type": "code",
   "execution_count": 3,
   "id": "875e8e49",
   "metadata": {},
   "outputs": [
    {
     "name": "stdout",
     "output_type": "stream",
     "text": [
      "(1, 2, 3)\n",
      "('One', 'Two', 'Three')\n",
      "[(1, 2, 3), ('One', 'Two', 'Three')]\n"
     ]
    }
   ],
   "source": [
    "c, d = zip(*zip(a, b))\n",
    "print(c)\n",
    "print(d)\n",
    "print(list(zip(*zip(a, b))))"
   ]
  },
  {
   "cell_type": "code",
   "execution_count": null,
   "id": "9b255eb8",
   "metadata": {},
   "outputs": [],
   "source": []
  }
 ],
 "metadata": {
  "jupytext": {
   "formats": "ipynb,py:percent"
  },
  "kernelspec": {
   "display_name": "Python 3 (ipykernel)",
   "language": "python",
   "name": "python3"
  },
  "language_info": {
   "codemirror_mode": {
    "name": "ipython",
    "version": 3
   },
   "file_extension": ".py",
   "mimetype": "text/x-python",
   "name": "python",
   "nbconvert_exporter": "python",
   "pygments_lexer": "ipython3",
   "version": "3.9.5"
  }
 },
 "nbformat": 4,
 "nbformat_minor": 5
}
