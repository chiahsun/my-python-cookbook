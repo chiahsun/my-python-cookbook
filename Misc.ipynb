{
 "cells": [
  {
   "cell_type": "markdown",
   "id": "0e58351c-5d5a-45a4-98a0-3591eab04839",
   "metadata": {},
   "source": [
    "# Miscellaneous"
   ]
  },
  {
   "cell_type": "markdown",
   "id": "81db05b7",
   "metadata": {},
   "source": [
    "## Iterate two vectors by tuples `zip()`"
   ]
  },
  {
   "cell_type": "code",
   "execution_count": 1,
   "id": "fea9badb",
   "metadata": {},
   "outputs": [
    {
     "name": "stdout",
     "output_type": "stream",
     "text": [
      "x = 1 y = 4\n",
      "x = 2 y = 5\n",
      "x = 3 y = 6\n"
     ]
    }
   ],
   "source": [
    "x = [1, 2, 3]\n",
    "y = [4, 5, 6]\n",
    "for a in zip(x, y):\n",
    "    print(f\"x = {a[0]} y = {a[1]}\")"
   ]
  },
  {
   "cell_type": "code",
   "execution_count": 2,
   "id": "02f7b66e",
   "metadata": {},
   "outputs": [
    {
     "name": "stdout",
     "output_type": "stream",
     "text": [
      "2.0\n",
      "5.0\n"
     ]
    }
   ],
   "source": [
    "def euclidean_distance(p1, p2):\n",
    "    return sum([(a[0] - a[1]) ** 2 for a in zip(p1, p2)]) ** 0.5\n",
    "\n",
    "print(euclidean_distance([1], [3]))\n",
    "print(euclidean_distance([2, 6], [5, 2]))"
   ]
  },
  {
   "cell_type": "markdown",
   "id": "3105619c",
   "metadata": {},
   "source": [
    "## Find argmin or argmax `min(, key = )`"
   ]
  },
  {
   "cell_type": "code",
   "execution_count": 3,
   "id": "df6188af-1fe4-4819-b129-7a38cf664f40",
   "metadata": {},
   "outputs": [
    {
     "data": {
      "text/plain": [
       "2"
      ]
     },
     "execution_count": 3,
     "metadata": {},
     "output_type": "execute_result"
    }
   ],
   "source": [
    "min([1, 2, 3, 4, 5], key = lambda x: x**2 - 4*x)"
   ]
  },
  {
   "cell_type": "code",
   "execution_count": 4,
   "id": "25f574ec-3021-4cce-bbe0-c43d8cef4187",
   "metadata": {},
   "outputs": [
    {
     "data": {
      "text/plain": [
       "2"
      ]
     },
     "execution_count": 4,
     "metadata": {},
     "output_type": "execute_result"
    }
   ],
   "source": [
    "max([1, 2, 3, 4, 5], key = lambda x: -x**2 + 4*x)"
   ]
  },
  {
   "cell_type": "code",
   "execution_count": 3,
   "id": "63e9398b-4840-4eaa-be54-89b4b075bd2f",
   "metadata": {},
   "outputs": [
    {
     "data": {
      "text/html": [
       "<div>\n",
       "<style scoped>\n",
       "    .dataframe tbody tr th:only-of-type {\n",
       "        vertical-align: middle;\n",
       "    }\n",
       "\n",
       "    .dataframe tbody tr th {\n",
       "        vertical-align: top;\n",
       "    }\n",
       "\n",
       "    .dataframe thead th {\n",
       "        text-align: right;\n",
       "    }\n",
       "</style>\n",
       "<table border=\"1\" class=\"dataframe\">\n",
       "  <thead>\n",
       "    <tr style=\"text-align: right;\">\n",
       "      <th></th>\n",
       "      <th>a</th>\n",
       "      <th>b</th>\n",
       "      <th>c</th>\n",
       "      <th>d</th>\n",
       "    </tr>\n",
       "  </thead>\n",
       "  <tbody>\n",
       "    <tr>\n",
       "      <th>0</th>\n",
       "      <td>1</td>\n",
       "      <td>2</td>\n",
       "      <td>4</td>\n",
       "      <td>9</td>\n",
       "    </tr>\n",
       "    <tr>\n",
       "      <th>1</th>\n",
       "      <td>2</td>\n",
       "      <td>-7</td>\n",
       "      <td>2</td>\n",
       "      <td>-1</td>\n",
       "    </tr>\n",
       "  </tbody>\n",
       "</table>\n",
       "</div>"
      ],
      "text/plain": [
       "   a  b  c  d\n",
       "0  1  2  4  9\n",
       "1  2 -7  2 -1"
      ]
     },
     "execution_count": 3,
     "metadata": {},
     "output_type": "execute_result"
    }
   ],
   "source": [
    "import pandas as pd\n",
    "# https://www.geeksforgeeks.org/different-ways-to-create-pandas-dataframe/\n",
    "data = {'a': [1, 2], 'b': [2, -7], 'c': [4, 2], 'd': [9, -1]}\n",
    "X = pd.DataFrame(data = data)\n",
    "X"
   ]
  },
  {
   "cell_type": "code",
   "execution_count": 9,
   "id": "3b1ab500-7870-46aa-a0a6-d928bc5c8f29",
   "metadata": {},
   "outputs": [
    {
     "data": {
      "text/plain": [
       "'b'"
      ]
     },
     "execution_count": 9,
     "metadata": {},
     "output_type": "execute_result"
    }
   ],
   "source": [
    "# X.loc[1, :]\n",
    "min(list(X.columns), key = lambda col: X.loc[1, col])"
   ]
  },
  {
   "cell_type": "markdown",
   "id": "0a5b963d-b6b0-4f09-823c-c32e0f1f4ab2",
   "metadata": {},
   "source": [
    "### Reference\n",
    "\n",
    "[wiki arguments of the maxima/minimum](https://en.wikipedia.org/wiki/Arg_max)"
   ]
  }
 ],
 "metadata": {
  "kernelspec": {
   "display_name": "Python 3",
   "language": "python",
   "name": "python3"
  },
  "language_info": {
   "codemirror_mode": {
    "name": "ipython",
    "version": 3
   },
   "file_extension": ".py",
   "mimetype": "text/x-python",
   "name": "python",
   "nbconvert_exporter": "python",
   "pygments_lexer": "ipython3",
   "version": "3.9.5"
  }
 },
 "nbformat": 4,
 "nbformat_minor": 5
}
