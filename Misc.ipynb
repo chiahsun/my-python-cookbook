{
 "cells": [
  {
   "cell_type": "markdown",
   "id": "0e58351c-5d5a-45a4-98a0-3591eab04839",
   "metadata": {},
   "source": [
    "# Miscellaneous\n",
    "\n",
    "## Find argmin or argmax"
   ]
  },
  {
   "cell_type": "code",
   "execution_count": 4,
   "id": "df6188af-1fe4-4819-b129-7a38cf664f40",
   "metadata": {},
   "outputs": [
    {
     "data": {
      "text/plain": [
       "2"
      ]
     },
     "execution_count": 4,
     "metadata": {},
     "output_type": "execute_result"
    }
   ],
   "source": [
    "min([1, 2, 3, 4, 5], key = lambda x: x**2 - 4*x)"
   ]
  },
  {
   "cell_type": "code",
   "execution_count": 5,
   "id": "25f574ec-3021-4cce-bbe0-c43d8cef4187",
   "metadata": {},
   "outputs": [
    {
     "data": {
      "text/plain": [
       "2"
      ]
     },
     "execution_count": 5,
     "metadata": {},
     "output_type": "execute_result"
    }
   ],
   "source": [
    "max([1, 2, 3, 4, 5], key = lambda x: -x**2 + 4*x)"
   ]
  },
  {
   "cell_type": "markdown",
   "id": "0a5b963d-b6b0-4f09-823c-c32e0f1f4ab2",
   "metadata": {},
   "source": [
    "### Reference\n",
    "\n",
    "[wiki arguments of the maxima/minimum](https://en.wikipedia.org/wiki/Arg_max)"
   ]
  }
 ],
 "metadata": {
  "kernelspec": {
   "display_name": "Python 3",
   "language": "python",
   "name": "python3"
  },
  "language_info": {
   "codemirror_mode": {
    "name": "ipython",
    "version": 3
   },
   "file_extension": ".py",
   "mimetype": "text/x-python",
   "name": "python",
   "nbconvert_exporter": "python",
   "pygments_lexer": "ipython3",
   "version": "3.9.5"
  }
 },
 "nbformat": 4,
 "nbformat_minor": 5
}
